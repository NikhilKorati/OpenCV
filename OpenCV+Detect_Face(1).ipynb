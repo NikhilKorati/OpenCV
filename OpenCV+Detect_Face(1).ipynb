{
 "cells": [
  {
   "cell_type": "code",
   "execution_count": 260,
   "metadata": {},
   "outputs": [
    {
     "name": "stdout",
     "output_type": "stream",
     "text": [
      "Populating the interactive namespace from numpy and matplotlib\n"
     ]
    },
    {
     "name": "stderr",
     "output_type": "stream",
     "text": [
      "/opt/python3.6/lib/python3.6/site-packages/IPython/core/magics/pylab.py:160: UserWarning: pylab import has clobbered these variables: ['gray']\n",
      "`%matplotlib` prevents importing * from pylab and numpy\n",
      "  \"\\n`%matplotlib` prevents importing * from pylab and numpy\"\n"
     ]
    }
   ],
   "source": [
    "import cv2\n",
    "import matplotlib.pyplot as plt\n",
    "%pylab inline"
   ]
  },
  {
   "cell_type": "code",
   "execution_count": 261,
   "metadata": {},
   "outputs": [],
   "source": [
    "cv2.setUseOptimized(False)\n",
    "\n",
    "imagePath = '/home/xilinx/group_photo/group_photo/IMG_1888.JPG'\n",
    "cascadePath = '/home/xilinx/jupyter_notebooks/lbpcascade_frontalface.xml'"
   ]
  },
  {
   "cell_type": "code",
   "execution_count": 262,
   "metadata": {},
   "outputs": [],
   "source": [
    "faceCascade = cv2.CascadeClassifier(cascadePath)\n",
    "img = cv2.imread(imagePath)\n",
    "gray = cv2.cvtColor(img, cv2.COLOR_BGR2GRAY)"
   ]
  },
  {
   "cell_type": "code",
   "execution_count": 263,
   "metadata": {},
   "outputs": [],
   "source": [
    "faces = faceCascade.detectMultiScale(\n",
    "    gray,\n",
    "    scaleFactor=1.3,\n",
    "    minNeighbors=5,\n",
    "    minSize=(35, 35),\n",
    "    flags = cv2.CASCADE_SCALE_IMAGE\n",
    ")\n"
   ]
  },
  {
   "cell_type": "code",
   "execution_count": 264,
   "metadata": {},
   "outputs": [
    {
     "name": "stdout",
     "output_type": "stream",
     "text": [
      "6\n"
     ]
    }
   ],
   "source": [
    "print(len(faces))"
   ]
  },
  {
   "cell_type": "code",
   "execution_count": 265,
   "metadata": {},
   "outputs": [],
   "source": [
    "# Draw a rectangle around the faces\n",
    "for (x, y, w, h) in faces:\n",
    "    cv2.rectangle(img, (x, y), (x+w, y+h), (0, 255, 0), 2)\n",
    "    \n",
    "    sub_face = img[y:y+h, x:x+w]\n",
    "    face_file_name = \"/home/xilinx/jupyter_notebooks/Faces/face_\" + str(y) + \".jpg\"\n",
    "    cv2.imwrite(face_file_name, sub_face)\n",
    "\n",
    "#cv2.imshow(imagePath, img)\n",
    "#cv2.waitKey(0)\n"
   ]
  },
  {
   "cell_type": "code",
   "execution_count": 266,
   "metadata": {},
   "outputs": [],
   "source": [
    "orb = cv2.ORB_create()\n",
    "import os\n",
    "import glob"
   ]
  },
  {
   "cell_type": "code",
   "execution_count": 267,
   "metadata": {},
   "outputs": [
    {
     "name": "stdout",
     "output_type": "stream",
     "text": [
      "8\n"
     ]
    }
   ],
   "source": [
    "files = []\n",
    "for file in glob.glob('*.jpg'):\n",
    "    files.append(file)  \n",
    "\n",
    "print(len(files))"
   ]
  },
  {
   "cell_type": "code",
   "execution_count": 268,
   "metadata": {},
   "outputs": [],
   "source": [
    "import collections\n",
    "imgs = []\n",
    "for image in files:\n",
    "    imgs.append(cv2.imread(image, cv2.COLOR_BGR2GRAY))\n",
    "    \n",
    "    \n",
    "image_dict = {}\n",
    "for i in range(0,len(imgs)):\n",
    "    image_dict[files[i]] = imgs[i]\n"
   ]
  },
  {
   "cell_type": "code",
   "execution_count": 269,
   "metadata": {},
   "outputs": [],
   "source": [
    "kps = []\n",
    "dess = []\n",
    "\n",
    "dess_dict = {}\n",
    "keys_list = []\n",
    "\n",
    "for key,value1 in image_dict.items():\n",
    "    kp, des = orb.detectAndCompute(value1,None)\n",
    "    kps.append(kp)\n",
    "    dess.append(des)\n",
    "    dess_dict[key] = des\n",
    "    keys_list.append(key)\n"
   ]
  },
  {
   "cell_type": "code",
   "execution_count": 271,
   "metadata": {},
   "outputs": [],
   "source": [
    "matches = []\n",
    "comparisons = []\n",
    "match_score = []\n",
    "\n",
    "for i in range(0,len(dess_dict)):\n",
    "    des1 = list(dess_dict.values())[i]\n",
    "    j = 1\n",
    "    while(j<len(dess)):\n",
    "        match = bf.match(des1,list(dess_dict.values())[j])\n",
    "        match_value = len(sorted(match, key = lambda x:x.distance))\n",
    "        if(match_value > 242):\n",
    "            match_score.append(str(keys_list[i])+' & '+str(keys_list[j])+' Almost a match')\n",
    "        else:\n",
    "            match_score.append(str(keys_list[i])+' & '+str(keys_list[j])+' No match')\n",
    "        matches.append(match_value)\n",
    "        j = j + 1\n",
    "        \n"
   ]
  },
  {
   "cell_type": "code",
   "execution_count": 272,
   "metadata": {},
   "outputs": [
    {
     "name": "stdout",
     "output_type": "stream",
     "text": [
      "face_750.jpg & face_492-Copy2.jpg No match\n",
      "face_750.jpg & face_499.jpg No match\n",
      "face_750.jpg & face_784.jpg No match\n",
      "face_750.jpg & face_707.jpg No match\n",
      "face_750.jpg & face_492-Copy1.jpg No match\n",
      "face_750.jpg & face_604.jpg No match\n",
      "face_750.jpg & face_492.jpg No match\n",
      "face_492-Copy2.jpg & face_492-Copy2.jpg Almost a match\n",
      "face_492-Copy2.jpg & face_499.jpg No match\n",
      "face_492-Copy2.jpg & face_784.jpg No match\n",
      "face_492-Copy2.jpg & face_707.jpg No match\n",
      "face_492-Copy2.jpg & face_492-Copy1.jpg Almost a match\n",
      "face_492-Copy2.jpg & face_604.jpg No match\n",
      "face_492-Copy2.jpg & face_492.jpg Almost a match\n",
      "face_499.jpg & face_492-Copy2.jpg No match\n",
      "face_499.jpg & face_499.jpg No match\n",
      "face_499.jpg & face_784.jpg No match\n",
      "face_499.jpg & face_707.jpg No match\n",
      "face_499.jpg & face_492-Copy1.jpg No match\n",
      "face_499.jpg & face_604.jpg No match\n",
      "face_499.jpg & face_492.jpg No match\n",
      "face_784.jpg & face_492-Copy2.jpg No match\n",
      "face_784.jpg & face_499.jpg No match\n",
      "face_784.jpg & face_784.jpg Almost a match\n",
      "face_784.jpg & face_707.jpg No match\n",
      "face_784.jpg & face_492-Copy1.jpg No match\n",
      "face_784.jpg & face_604.jpg No match\n",
      "face_784.jpg & face_492.jpg No match\n",
      "face_707.jpg & face_492-Copy2.jpg No match\n",
      "face_707.jpg & face_499.jpg No match\n",
      "face_707.jpg & face_784.jpg No match\n",
      "face_707.jpg & face_707.jpg Almost a match\n",
      "face_707.jpg & face_492-Copy1.jpg No match\n",
      "face_707.jpg & face_604.jpg No match\n",
      "face_707.jpg & face_492.jpg No match\n",
      "face_492-Copy1.jpg & face_492-Copy2.jpg Almost a match\n",
      "face_492-Copy1.jpg & face_499.jpg No match\n",
      "face_492-Copy1.jpg & face_784.jpg No match\n",
      "face_492-Copy1.jpg & face_707.jpg No match\n",
      "face_492-Copy1.jpg & face_492-Copy1.jpg Almost a match\n",
      "face_492-Copy1.jpg & face_604.jpg No match\n",
      "face_492-Copy1.jpg & face_492.jpg Almost a match\n",
      "face_604.jpg & face_492-Copy2.jpg No match\n",
      "face_604.jpg & face_499.jpg No match\n",
      "face_604.jpg & face_784.jpg No match\n",
      "face_604.jpg & face_707.jpg No match\n",
      "face_604.jpg & face_492-Copy1.jpg No match\n",
      "face_604.jpg & face_604.jpg No match\n",
      "face_604.jpg & face_492.jpg No match\n",
      "face_492.jpg & face_492-Copy2.jpg Almost a match\n",
      "face_492.jpg & face_499.jpg No match\n",
      "face_492.jpg & face_784.jpg No match\n",
      "face_492.jpg & face_707.jpg No match\n",
      "face_492.jpg & face_492-Copy1.jpg Almost a match\n",
      "face_492.jpg & face_604.jpg No match\n",
      "face_492.jpg & face_492.jpg Almost a match\n"
     ]
    }
   ],
   "source": [
    "print('\\n'.join(match_score))"
   ]
  },
  {
   "cell_type": "code",
   "execution_count": 21,
   "metadata": {},
   "outputs": [
    {
     "name": "stdout",
     "output_type": "stream",
     "text": [
      "Go to the following link in your browser: https://accounts.google.com/o/oauth2/auth?client_id=1098400883619-jhgjk83o0d9efst9h07bp4pjosmllcgq.apps.googleusercontent.com&redirect_uri=urn%3Aietf%3Awg%3Aoauth%3A2.0%3Aoob&scope=https%3A%2F%2Fwww.googleapis.com%2Fauth%2Fdrive.file&access_type=offline&response_type=code\n"
     ]
    },
    {
     "ename": "FlowExchangeError",
     "evalue": "invalid_grantCode was already redeemed.",
     "output_type": "error",
     "traceback": [
      "\u001b[0;31m---------------------------------------------------------------------------\u001b[0m",
      "\u001b[0;31mFlowExchangeError\u001b[0m                         Traceback (most recent call last)",
      "\u001b[0;32m<ipython-input-21-16f82e9d3d41>\u001b[0m in \u001b[0;36m<module>\u001b[0;34m()\u001b[0m\n\u001b[1;32m     27\u001b[0m \u001b[0mprint\u001b[0m \u001b[0;34m(\u001b[0m\u001b[0;34m'Go to the following link in your browser: '\u001b[0m \u001b[0;34m+\u001b[0m \u001b[0mauthorize_url\u001b[0m\u001b[0;34m)\u001b[0m\u001b[0;34m\u001b[0m\u001b[0m\n\u001b[1;32m     28\u001b[0m \u001b[0mcode\u001b[0m \u001b[0;34m=\u001b[0m \u001b[0;34m'4/jOqmlAkSeI_vlXbI-8DBoz1wUNEQwYT3cBqu-vsdQfc'\u001b[0m\u001b[0;34m\u001b[0m\u001b[0m\n\u001b[0;32m---> 29\u001b[0;31m \u001b[0mcredentials\u001b[0m \u001b[0;34m=\u001b[0m \u001b[0mflow\u001b[0m\u001b[0;34m.\u001b[0m\u001b[0mstep2_exchange\u001b[0m\u001b[0;34m(\u001b[0m\u001b[0mcode\u001b[0m\u001b[0;34m)\u001b[0m\u001b[0;34m\u001b[0m\u001b[0m\n\u001b[0m\u001b[1;32m     30\u001b[0m \u001b[0;34m\u001b[0m\u001b[0m\n\u001b[1;32m     31\u001b[0m \u001b[0;31m# # Create an authorized Drive API client.\u001b[0m\u001b[0;34m\u001b[0m\u001b[0;34m\u001b[0m\u001b[0m\n",
      "\u001b[0;32m/opt/python3.6/lib/python3.6/site-packages/oauth2client/_helpers.py\u001b[0m in \u001b[0;36mpositional_wrapper\u001b[0;34m(*args, **kwargs)\u001b[0m\n\u001b[1;32m    131\u001b[0m                 \u001b[0;32melif\u001b[0m \u001b[0mpositional_parameters_enforcement\u001b[0m \u001b[0;34m==\u001b[0m \u001b[0mPOSITIONAL_WARNING\u001b[0m\u001b[0;34m:\u001b[0m\u001b[0;34m\u001b[0m\u001b[0m\n\u001b[1;32m    132\u001b[0m                     \u001b[0mlogger\u001b[0m\u001b[0;34m.\u001b[0m\u001b[0mwarning\u001b[0m\u001b[0;34m(\u001b[0m\u001b[0mmessage\u001b[0m\u001b[0;34m)\u001b[0m\u001b[0;34m\u001b[0m\u001b[0m\n\u001b[0;32m--> 133\u001b[0;31m             \u001b[0;32mreturn\u001b[0m \u001b[0mwrapped\u001b[0m\u001b[0;34m(\u001b[0m\u001b[0;34m*\u001b[0m\u001b[0margs\u001b[0m\u001b[0;34m,\u001b[0m \u001b[0;34m**\u001b[0m\u001b[0mkwargs\u001b[0m\u001b[0;34m)\u001b[0m\u001b[0;34m\u001b[0m\u001b[0m\n\u001b[0m\u001b[1;32m    134\u001b[0m         \u001b[0;32mreturn\u001b[0m \u001b[0mpositional_wrapper\u001b[0m\u001b[0;34m\u001b[0m\u001b[0m\n\u001b[1;32m    135\u001b[0m \u001b[0;34m\u001b[0m\u001b[0m\n",
      "\u001b[0;32m/opt/python3.6/lib/python3.6/site-packages/oauth2client/client.py\u001b[0m in \u001b[0;36mstep2_exchange\u001b[0;34m(self, code, http, device_flow_info)\u001b[0m\n\u001b[1;32m   2087\u001b[0m             \u001b[0;32melse\u001b[0m\u001b[0;34m:\u001b[0m\u001b[0;34m\u001b[0m\u001b[0m\n\u001b[1;32m   2088\u001b[0m                 \u001b[0merror_msg\u001b[0m \u001b[0;34m=\u001b[0m \u001b[0;34m'Invalid response: {0}.'\u001b[0m\u001b[0;34m.\u001b[0m\u001b[0mformat\u001b[0m\u001b[0;34m(\u001b[0m\u001b[0mstr\u001b[0m\u001b[0;34m(\u001b[0m\u001b[0mresp\u001b[0m\u001b[0;34m.\u001b[0m\u001b[0mstatus\u001b[0m\u001b[0;34m)\u001b[0m\u001b[0;34m)\u001b[0m\u001b[0;34m\u001b[0m\u001b[0m\n\u001b[0;32m-> 2089\u001b[0;31m             \u001b[0;32mraise\u001b[0m \u001b[0mFlowExchangeError\u001b[0m\u001b[0;34m(\u001b[0m\u001b[0merror_msg\u001b[0m\u001b[0;34m)\u001b[0m\u001b[0;34m\u001b[0m\u001b[0m\n\u001b[0m\u001b[1;32m   2090\u001b[0m \u001b[0;34m\u001b[0m\u001b[0m\n\u001b[1;32m   2091\u001b[0m \u001b[0;34m\u001b[0m\u001b[0m\n",
      "\u001b[0;31mFlowExchangeError\u001b[0m: invalid_grantCode was already redeemed."
     ]
    }
   ],
   "source": [
    "import pprint\n",
    "\n",
    "import httplib2\n",
    "import apiclient.discovery\n",
    "import apiclient.http\n",
    "import oauth2client.client\n",
    "\n",
    "# OAuth 2.0 scope that will be authorized.\n",
    "# Check https://developers.google.com/drive/scopes for all available scopes.\n",
    "OAUTH2_SCOPE = 'https://www.googleapis.com/auth/drive.file'\n",
    "\n",
    "# Location of the client secrets.\n",
    "CLIENT_SECRETS = 'client_secret.json'\n",
    "\n",
    "# Path to the file to upload.\n",
    "FILENAME = 'beatles.jpg'\n",
    "\n",
    "# Metadata about the file.\n",
    "MIMETYPE = 'image/jpeg'\n",
    "TITLE = 'Image'\n",
    "DESCRIPTION = 'New File'\n",
    "\n",
    "# # Perform OAuth2.0 authorization flow.\n",
    "flow = oauth2client.client.flow_from_clientsecrets(CLIENT_SECRETS, OAUTH2_SCOPE)\n",
    "flow.redirect_uri = oauth2client.client.OOB_CALLBACK_URN\n",
    "authorize_url = flow.step1_get_authorize_url()\n",
    "print ('Go to the following link in your browser: ' + authorize_url)\n",
    "code = '4/jOqmlAkSeI_vlXbI-8DBoz1wUNEQwYT3cBqu-vsdQfc'\n",
    "credentials = flow.step2_exchange(code)\n",
    "\n",
    "# # Create an authorized Drive API client.\n",
    "http = httplib2.Http()\n",
    "credentials.authorize(http)\n",
    "drive_service = apiclient.discovery.build('drive', 'v2', http=http)\n",
    "\n",
    "# Insert a file. Files are comprised of contents and metadata.\n",
    "# MediaFileUpload abstracts uploading file contents from a file on disk.\n",
    "media_body = apiclient.http.MediaFileUpload(\n",
    "    FILENAME,\n",
    "    mimetype=MIMETYPE,\n",
    "    resumable=True\n",
    ")\n",
    "# The body contains the metadata for the file.\n",
    "body = {\n",
    "  'title': TITLE,\n",
    "  'description': DESCRIPTION,\n",
    "}\n",
    "\n",
    "# Perform the request and print the result.\n",
    "new_file = drive_service.files().insert(body=body, media_body=media_body).execute()\n",
    "pprint.pprint(new_file)"
   ]
  },
  {
   "cell_type": "code",
   "execution_count": 27,
   "metadata": {},
   "outputs": [
    {
     "ename": "ImportError",
     "evalue": "cannot import name 'SignedJwtAssertionCredentials'",
     "output_type": "error",
     "traceback": [
      "\u001b[0;31m---------------------------------------------------------------------------\u001b[0m",
      "\u001b[0;31mImportError\u001b[0m                               Traceback (most recent call last)",
      "\u001b[0;32m<ipython-input-27-bfa57f5bc960>\u001b[0m in \u001b[0;36m<module>\u001b[0;34m()\u001b[0m\n\u001b[1;32m      4\u001b[0m \u001b[0;32mfrom\u001b[0m \u001b[0mapiclient\u001b[0m\u001b[0;34m.\u001b[0m\u001b[0mdiscovery\u001b[0m \u001b[0;32mimport\u001b[0m \u001b[0mbuild\u001b[0m\u001b[0;34m\u001b[0m\u001b[0m\n\u001b[1;32m      5\u001b[0m \u001b[0;32mfrom\u001b[0m \u001b[0mapiclient\u001b[0m\u001b[0;34m.\u001b[0m\u001b[0mhttp\u001b[0m \u001b[0;32mimport\u001b[0m \u001b[0mMediaFileUpload\u001b[0m\u001b[0;34m\u001b[0m\u001b[0m\n\u001b[0;32m----> 6\u001b[0;31m \u001b[0;32mfrom\u001b[0m \u001b[0moauth2client\u001b[0m\u001b[0;34m.\u001b[0m\u001b[0mclient\u001b[0m \u001b[0;32mimport\u001b[0m \u001b[0mSignedJwtAssertionCredentials\u001b[0m\u001b[0;34m\u001b[0m\u001b[0m\n\u001b[0m\u001b[1;32m      7\u001b[0m \u001b[0;32mfrom\u001b[0m \u001b[0moauth2client\u001b[0m\u001b[0;34m.\u001b[0m\u001b[0mfile\u001b[0m \u001b[0;32mimport\u001b[0m \u001b[0mStorage\u001b[0m\u001b[0;34m\u001b[0m\u001b[0m\n\u001b[1;32m      8\u001b[0m \u001b[0;34m\u001b[0m\u001b[0m\n",
      "\u001b[0;31mImportError\u001b[0m: cannot import name 'SignedJwtAssertionCredentials'"
     ]
    }
   ],
   "source": [
    "import httplib2\n",
    "import os\n",
    "\n",
    "from apiclient.discovery import build\n",
    "from apiclient.http import MediaFileUpload\n",
    "from oauth2client.client import SignedJwtAssertionCredentials\n",
    "from oauth2client.file import Storage\n",
    "\n",
    "\n",
    "# Don't ask me, where I've got the value for 'SERVICE_NAME'.\n",
    "SERVICE_NAME = 'drive'\n",
    "\n",
    "# Can be found here: http://developers.google.com/apis-explorer/#p/\n",
    "SERVICE_API_VERSION = 'v2'\n",
    "\n",
    "# Can be chosen from available Google Drive scopes: https://developers.google.com/drive/web/scopes\n",
    "# (Try to find scope list for other services, heh).\n",
    "SERVICE_SCOPE = 'https://www.googleapis.com/auth/drive.file'\n",
    "\n",
    "# Email which was given after creation of Client ID\n",
    "SERVICE_ACCOUNT_EMAIL = 'nik.yzf@gmail.com'\n",
    "\n",
    "# Path to your private key which was given after creation of Client ID\n",
    "PRIVATE_KEY_PATH = 'Xlinix_Private.json'\n",
    "\n",
    "# A file, where OAuth credentials will be stored (URIs, tokens and so on).\n",
    "CREDENTIALS_STORAGE = os.path.join(os.path.dirname(PRIVATE_KEY_PATH),\n",
    "                                   '{}-credentials.json'.format(SERVICE_NAME))\n",
    "\n",
    "# ID of the folder you want to upload your files to.\n",
    "FOLDER_ID = '0BwNzMSAtWEnvQWVEYjdlX1prZUU'\n",
    "\n",
    "\n",
    "def get_service():\n",
    "    storage = Storage(CREDENTIALS_STORAGE)\n",
    "    credentials = storage.get()\n",
    "    http = httplib2.Http()\n",
    "\n",
    "    if credentials is None or credentials.invalid:\n",
    "        with open(PRIVATE_KEY_PATH, 'rb') as f:\n",
    "            private_key = f.read()\n",
    "        credentials = SignedJwtAssertionCredentials(SERVICE_ACCOUNT_EMAIL,\n",
    "                                                    private_key,\n",
    "                                                    scope=SERVICE_SCOPE)\n",
    "        storage.put(credentials)\n",
    "    else:\n",
    "        credentials.refresh(http)\n",
    "\n",
    "    http = credentials.authorize(http)\n",
    "    return build(serviceName=SERVICE_NAME,\n",
    "                 version=SERVICE_API_VERSION,\n",
    "                 http=http)\n",
    "\n",
    "\n",
    "def upload_file(service, filename, description, mime_type, parent_id=None):\n",
    "    media_body = MediaFileUpload(filename, mimetype=mime_type, resumable=True)\n",
    "    body = {\n",
    "        'title': os.path.basename(filename),\n",
    "        'mimeType': mime_type,\n",
    "        'description': description,\n",
    "    }\n",
    "    if parent_id:\n",
    "        body['parents'] = [{'id': parent_id}, ]\n",
    "    return service.files().insert(body=body, media_body=media_body).execute()\n",
    "\n",
    "\n",
    "filename = \"beatles.jpg\"\n",
    "description = \"this file is used to test Google Drive API\"\n",
    "mime_type = \"image/jpeg\"\n",
    "\n",
    "service = get_service()\n",
    "f = upload_file(service=service,\n",
    "                filename=filename,\n",
    "                description=description,\n",
    "                mime_type=mime_type,\n",
    "                parent_id=FOLDER_ID)\n",
    "\n",
    "print(f['alternateLink'])"
   ]
  },
  {
   "cell_type": "code",
   "execution_count": 23,
   "metadata": {},
   "outputs": [
    {
     "ename": "SystemExit",
     "evalue": "2",
     "output_type": "error",
     "traceback": [
      "\u001b[0;31m---------------------------------------------------------------------------\u001b[0m",
      "\u001b[0;31mSystemExit\u001b[0m                                Traceback (most recent call last)",
      "\u001b[0;32m<ipython-input-22-1b2c2fe0cc7e>\u001b[0m in \u001b[0;36m<module>\u001b[0;34m()\u001b[0m\n\u001b[1;32m      7\u001b[0m \u001b[0;32mtry\u001b[0m\u001b[0;34m:\u001b[0m\u001b[0;34m\u001b[0m\u001b[0m\n\u001b[1;32m      8\u001b[0m     \u001b[0;32mimport\u001b[0m \u001b[0margparse\u001b[0m\u001b[0;34m\u001b[0m\u001b[0m\n\u001b[0;32m----> 9\u001b[0;31m     \u001b[0mflags\u001b[0m \u001b[0;34m=\u001b[0m \u001b[0margparse\u001b[0m\u001b[0;34m.\u001b[0m\u001b[0mArgumentParser\u001b[0m\u001b[0;34m(\u001b[0m\u001b[0mparents\u001b[0m\u001b[0;34m=\u001b[0m\u001b[0;34m[\u001b[0m\u001b[0mtools\u001b[0m\u001b[0;34m.\u001b[0m\u001b[0margparser\u001b[0m\u001b[0;34m]\u001b[0m\u001b[0;34m)\u001b[0m\u001b[0;34m.\u001b[0m\u001b[0mparse_args\u001b[0m\u001b[0;34m(\u001b[0m\u001b[0;34m)\u001b[0m\u001b[0;34m\u001b[0m\u001b[0m\n\u001b[0m\u001b[1;32m     10\u001b[0m \u001b[0;32mexcept\u001b[0m \u001b[0mImportError\u001b[0m\u001b[0;34m:\u001b[0m\u001b[0;34m\u001b[0m\u001b[0m\n\u001b[1;32m     11\u001b[0m     \u001b[0mflags\u001b[0m \u001b[0;34m=\u001b[0m \u001b[0;32mNone\u001b[0m\u001b[0;34m\u001b[0m\u001b[0m\n",
      "\u001b[0;32m/opt/python3.6/lib/python3.6/argparse.py\u001b[0m in \u001b[0;36mparse_args\u001b[0;34m(self, args, namespace)\u001b[0m\n\u001b[1;32m   1731\u001b[0m         \u001b[0;32mif\u001b[0m \u001b[0margv\u001b[0m\u001b[0;34m:\u001b[0m\u001b[0;34m\u001b[0m\u001b[0m\n\u001b[1;32m   1732\u001b[0m             \u001b[0mmsg\u001b[0m \u001b[0;34m=\u001b[0m \u001b[0m_\u001b[0m\u001b[0;34m(\u001b[0m\u001b[0;34m'unrecognized arguments: %s'\u001b[0m\u001b[0;34m)\u001b[0m\u001b[0;34m\u001b[0m\u001b[0m\n\u001b[0;32m-> 1733\u001b[0;31m             \u001b[0mself\u001b[0m\u001b[0;34m.\u001b[0m\u001b[0merror\u001b[0m\u001b[0;34m(\u001b[0m\u001b[0mmsg\u001b[0m \u001b[0;34m%\u001b[0m \u001b[0;34m' '\u001b[0m\u001b[0;34m.\u001b[0m\u001b[0mjoin\u001b[0m\u001b[0;34m(\u001b[0m\u001b[0margv\u001b[0m\u001b[0;34m)\u001b[0m\u001b[0;34m)\u001b[0m\u001b[0;34m\u001b[0m\u001b[0m\n\u001b[0m\u001b[1;32m   1734\u001b[0m         \u001b[0;32mreturn\u001b[0m \u001b[0margs\u001b[0m\u001b[0;34m\u001b[0m\u001b[0m\n\u001b[1;32m   1735\u001b[0m \u001b[0;34m\u001b[0m\u001b[0m\n",
      "\u001b[0;32m/opt/python3.6/lib/python3.6/argparse.py\u001b[0m in \u001b[0;36merror\u001b[0;34m(self, message)\u001b[0m\n\u001b[1;32m   2387\u001b[0m         \u001b[0mself\u001b[0m\u001b[0;34m.\u001b[0m\u001b[0mprint_usage\u001b[0m\u001b[0;34m(\u001b[0m\u001b[0m_sys\u001b[0m\u001b[0;34m.\u001b[0m\u001b[0mstderr\u001b[0m\u001b[0;34m)\u001b[0m\u001b[0;34m\u001b[0m\u001b[0m\n\u001b[1;32m   2388\u001b[0m         \u001b[0margs\u001b[0m \u001b[0;34m=\u001b[0m \u001b[0;34m{\u001b[0m\u001b[0;34m'prog'\u001b[0m\u001b[0;34m:\u001b[0m \u001b[0mself\u001b[0m\u001b[0;34m.\u001b[0m\u001b[0mprog\u001b[0m\u001b[0;34m,\u001b[0m \u001b[0;34m'message'\u001b[0m\u001b[0;34m:\u001b[0m \u001b[0mmessage\u001b[0m\u001b[0;34m}\u001b[0m\u001b[0;34m\u001b[0m\u001b[0m\n\u001b[0;32m-> 2389\u001b[0;31m         \u001b[0mself\u001b[0m\u001b[0;34m.\u001b[0m\u001b[0mexit\u001b[0m\u001b[0;34m(\u001b[0m\u001b[0;36m2\u001b[0m\u001b[0;34m,\u001b[0m \u001b[0m_\u001b[0m\u001b[0;34m(\u001b[0m\u001b[0;34m'%(prog)s: error: %(message)s\\n'\u001b[0m\u001b[0;34m)\u001b[0m \u001b[0;34m%\u001b[0m \u001b[0margs\u001b[0m\u001b[0;34m)\u001b[0m\u001b[0;34m\u001b[0m\u001b[0m\n\u001b[0m",
      "\u001b[0;32m/opt/python3.6/lib/python3.6/argparse.py\u001b[0m in \u001b[0;36mexit\u001b[0;34m(self, status, message)\u001b[0m\n\u001b[1;32m   2374\u001b[0m         \u001b[0;32mif\u001b[0m \u001b[0mmessage\u001b[0m\u001b[0;34m:\u001b[0m\u001b[0;34m\u001b[0m\u001b[0m\n\u001b[1;32m   2375\u001b[0m             \u001b[0mself\u001b[0m\u001b[0;34m.\u001b[0m\u001b[0m_print_message\u001b[0m\u001b[0;34m(\u001b[0m\u001b[0mmessage\u001b[0m\u001b[0;34m,\u001b[0m \u001b[0m_sys\u001b[0m\u001b[0;34m.\u001b[0m\u001b[0mstderr\u001b[0m\u001b[0;34m)\u001b[0m\u001b[0;34m\u001b[0m\u001b[0m\n\u001b[0;32m-> 2376\u001b[0;31m         \u001b[0m_sys\u001b[0m\u001b[0;34m.\u001b[0m\u001b[0mexit\u001b[0m\u001b[0;34m(\u001b[0m\u001b[0mstatus\u001b[0m\u001b[0;34m)\u001b[0m\u001b[0;34m\u001b[0m\u001b[0m\n\u001b[0m\u001b[1;32m   2377\u001b[0m \u001b[0;34m\u001b[0m\u001b[0m\n\u001b[1;32m   2378\u001b[0m     \u001b[0;32mdef\u001b[0m \u001b[0merror\u001b[0m\u001b[0;34m(\u001b[0m\u001b[0mself\u001b[0m\u001b[0;34m,\u001b[0m \u001b[0mmessage\u001b[0m\u001b[0;34m)\u001b[0m\u001b[0;34m:\u001b[0m\u001b[0;34m\u001b[0m\u001b[0m\n",
      "\u001b[0;31mSystemExit\u001b[0m: 2"
     ]
    }
   ],
   "source": [
    "%tb"
   ]
  },
  {
   "cell_type": "code",
   "execution_count": null,
   "metadata": {},
   "outputs": [],
   "source": []
  }
 ],
 "metadata": {
  "kernelspec": {
   "display_name": "Python 3",
   "language": "python",
   "name": "python3"
  },
  "language_info": {
   "codemirror_mode": {
    "name": "ipython",
    "version": 3
   },
   "file_extension": ".py",
   "mimetype": "text/x-python",
   "name": "python",
   "nbconvert_exporter": "python",
   "pygments_lexer": "ipython3",
   "version": "3.6.0"
  }
 },
 "nbformat": 4,
 "nbformat_minor": 2
}
